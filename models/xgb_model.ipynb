{
 "cells": [
  {
   "cell_type": "code",
   "execution_count": null,
   "metadata": {},
   "outputs": [],
   "source": [
    "from xgboost import XGBClassifier, XGBRegressor\n",
    "from sklearn.model_selection import RandomizedSearchCV\n",
    "from sklearn.preprocessing import LabelEncoder\n",
    "import joblib\n",
    "import pandas as pd"
   ]
  },
  {
   "cell_type": "code",
   "execution_count": 1,
   "metadata": {},
   "outputs": [],
   "source": [
    "def train_xgb_model(X_train, y_train):\n",
    "    \"\"\"\n",
    "    Train an XGBoost regression model with hyperparameter optimization.\n",
    "    \n",
    "    Args:\n",
    "        X_train: Training features\n",
    "        y_train: Training target values\n",
    "        \n",
    "    Returns:\n",
    "        The best trained XGBoost model\n",
    "    \"\"\"\n",
    "    # Create XGBoost regressor\n",
    "    model = XGBRegressor(objective='reg:squarederror')\n",
    "    \n",
    "    # Define a smaller grid of hyperparameters to search\n",
    "    grid = {\n",
    "        'n_estimators': [50, 100],\n",
    "        'max_depth': [3, 7],\n",
    "        'learning_rate': [0.05, 0.1],\n",
    "        'subsample': [0.7, 1.0],\n",
    "        'colsample_bytree': [0.6, 0.8],\n",
    "        'gamma': [0, 1]\n",
    "    }\n",
    "    \n",
    "    # Define the evaluation procedure with limited parallelism\n",
    "    search = RandomizedSearchCV(\n",
    "        model, \n",
    "        grid, \n",
    "        n_iter=20,  # Reduced iterations\n",
    "        scoring='neg_mean_squared_error', \n",
    "        n_jobs=1,   # Limited to 2 cores\n",
    "        cv=3, \n",
    "        random_state=1,\n",
    "        verbose=1\n",
    "    )\n",
    "    \n",
    "    # Execute the search\n",
    "    search.fit(X_train, y_train)\n",
    "    \n",
    "    # Summarize best results\n",
    "    print('Best Mean Squared Error: %.3f' % -search.best_score_)\n",
    "    print('Best Config: %s' % search.best_params_)\n",
    "    \n",
    "    # Save best model\n",
    "    best_model = search.best_estimator_\n",
    "    \n",
    "    # Make sure the directory exists before saving\n",
    "    import os\n",
    "    if not os.path.exists('models'):\n",
    "        os.makedirs('models')\n",
    "    \n",
    "    joblib.dump(best_model, 'models/xgb_model.pkl')\n",
    "    print(\"Model saved as models/xgb_model.pkl\")\n",
    "    \n",
    "    return best_model"
   ]
  }
 ],
 "metadata": {
  "kernelspec": {
   "display_name": "venv",
   "language": "python",
   "name": "python3"
  },
  "language_info": {
   "codemirror_mode": {
    "name": "ipython",
    "version": 3
   },
   "file_extension": ".py",
   "mimetype": "text/x-python",
   "name": "python",
   "nbconvert_exporter": "python",
   "pygments_lexer": "ipython3",
   "version": "3.11.9"
  }
 },
 "nbformat": 4,
 "nbformat_minor": 2
}
