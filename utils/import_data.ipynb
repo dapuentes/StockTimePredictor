{
 "cells": [
  {
   "cell_type": "code",
   "execution_count": null,
   "metadata": {},
   "outputs": [],
   "source": [
    "import yfinance as yf\n",
    "import pandas as pd\n",
    "from datetime import datetime, timedelta\n",
    "\n",
    "def load_data(ticker=\"NU\", start_date=None, end_date=None):\n",
    "    \"\"\"\n",
    "    Load stock data with flexible date ranges and ticker selection.\n",
    "\n",
    "    Args:\n",
    "    - ticker (str, optional): Stock ticker symbol. Defaults to \"NU\".\n",
    "    - start_date (str or datetime, optional): Start date for data retrieval. \n",
    "      Defaults to 3 years ago from current date.\n",
    "    - end_date (str or datetime, optional): End date for data retrieval. \n",
    "      Defaults to current date.\n",
    "\n",
    "    Returns:\n",
    "    - data (DataFrame): Raw stock data.\n",
    "    \"\"\"\n",
    "    # Set default date range if not provided\n",
    "    if start_date is None:\n",
    "        start_date = datetime.now() - timedelta(days=3*365)\n",
    "    \n",
    "    if end_date is None:\n",
    "        end_date = datetime.now()\n",
    "    \n",
    "    # Ensure dates are in datetime format\n",
    "    if isinstance(start_date, str):\n",
    "        start_date = pd.to_datetime(start_date)\n",
    "    if isinstance(end_date, str):\n",
    "        end_date = pd.to_datetime(end_date)\n",
    "    \n",
    "    # Fetch data\n",
    "    try:\n",
    "        data = yf.Ticker(ticker).history(start=start_date, end=end_date)\n",
    "        \n",
    "        # Drop unnecessary columns\n",
    "        columns_to_drop = ['Dividends', 'Stock Splits']\n",
    "        data = data.drop(columns=[col for col in columns_to_drop if col in data.columns], axis=1)\n",
    "        \n",
    "        # Add GreenDay feature\n",
    "        data['GreenDay'] = (data['Close'].diff() > 0).astype(int)\n",
    "        \n",
    "        return data\n",
    "    \n",
    "    except Exception as e:\n",
    "        print(f\"Error loading data for {ticker}: {e}\")\n",
    "        raise"
   ]
  }
 ],
 "metadata": {
  "kernelspec": {
   "display_name": ".venv",
   "language": "python",
   "name": "python3"
  },
  "language_info": {
   "codemirror_mode": {
    "name": "ipython",
    "version": 3
   },
   "file_extension": ".py",
   "mimetype": "text/x-python",
   "name": "python",
   "nbconvert_exporter": "python",
   "pygments_lexer": "ipython3",
   "version": "3.11.9"
  }
 },
 "nbformat": 4,
 "nbformat_minor": 2
}
