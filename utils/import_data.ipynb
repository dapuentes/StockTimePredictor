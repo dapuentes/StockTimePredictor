{
 "cells": [
  {
   "cell_type": "code",
   "execution_count": 3,
   "metadata": {},
   "outputs": [],
   "source": [
    "import yfinance as yf\n",
    "\n",
    "def load_data():\n",
    "    \"\"\"\n",
    "    Load the stock data.\n",
    "\n",
    "    Returns:\n",
    "    - data (DataFrame): Raw stock data.\n",
    "    \"\"\"\n",
    "    data = yf.Ticker(\"NU\").history(start='2021-12-13', end='2024-10-18')\n",
    "    data.drop(['Dividends', 'Stock Splits'], axis=1, inplace=True)\n",
    "    data['GreenDay'] = (data['Close'].diff() > 0).astype(int)\n",
    "    print(data.head())\n",
    "    return data\n",
    "\n"
   ]
  }
 ],
 "metadata": {
  "kernelspec": {
   "display_name": "venv",
   "language": "python",
   "name": "python3"
  },
  "language_info": {
   "codemirror_mode": {
    "name": "ipython",
    "version": 3
   },
   "file_extension": ".py",
   "mimetype": "text/x-python",
   "name": "python",
   "nbconvert_exporter": "python",
   "pygments_lexer": "ipython3",
   "version": "3.11.9"
  }
 },
 "nbformat": 4,
 "nbformat_minor": 2
}
